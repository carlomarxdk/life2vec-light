{
 "cells": [
  {
   "cell_type": "code",
   "execution_count": 1,
   "metadata": {},
   "outputs": [],
   "source": [
    "from src.dataloaders.sources.synth_labor import SyntheticLaborSource"
   ]
  },
  {
   "cell_type": "code",
   "execution_count": 2,
   "metadata": {},
   "outputs": [],
   "source": [
    "## How to create a SOURCE!\n",
    "r = SyntheticLaborSource().prepare()"
   ]
  },
  {
   "cell_type": "code",
   "execution_count": 1,
   "metadata": {},
   "outputs": [],
   "source": [
    "from src.dataloaders.population.users import UserPopulation"
   ]
  },
  {
   "cell_type": "code",
   "execution_count": 2,
   "metadata": {},
   "outputs": [],
   "source": [
    "users = UserPopulation()"
   ]
  },
  {
   "cell_type": "code",
   "execution_count": 3,
   "metadata": {},
   "outputs": [
    {
     "data": {
      "text/plain": [
       "DataSplit(train=array([ 60,  22,  57,  19,  34,  43,  51,  28,  93,  72,   3,  26,  25,\n",
       "        53,  82, 100,  52,  62,   5,  98,  95,  38,  29,  81,   8,  58,\n",
       "        80,  27,  77,  79,  39,   1,  87,  47,  11,  30,  71,  46,  18,\n",
       "        40,  92,  41,  90,   6,  69,   2,  96,  85,  64,   4,  84,  94,\n",
       "        21,  88,  44,  74,  33,  76,  24,  97,  70,  16,  49,  56,  61,\n",
       "        10,  63,  32,  73,  17]), val=array([45, 83, 68, 35, 31, 59, 75, 89, 99, 55, 50,  7, 91, 12, 86]), test=array([42, 23, 20, 36, 65, 48, 13, 54, 15, 14, 67, 37, 66, 78,  9]))"
      ]
     },
     "execution_count": 3,
     "metadata": {},
     "output_type": "execute_result"
    }
   ],
   "source": [
    "users.data_split()"
   ]
  },
  {
   "cell_type": "code",
   "execution_count": null,
   "metadata": {},
   "outputs": [],
   "source": []
  }
 ],
 "metadata": {
  "kernelspec": {
   "display_name": "torch",
   "language": "python",
   "name": "python3"
  },
  "language_info": {
   "codemirror_mode": {
    "name": "ipython",
    "version": 3
   },
   "file_extension": ".py",
   "mimetype": "text/x-python",
   "name": "python",
   "nbconvert_exporter": "python",
   "pygments_lexer": "ipython3",
   "version": "3.11.7"
  }
 },
 "nbformat": 4,
 "nbformat_minor": 2
}
