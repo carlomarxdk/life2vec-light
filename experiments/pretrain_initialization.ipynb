{
 "cells": [
  {
   "cell_type": "markdown",
   "metadata": {},
   "source": [
    "# Initialize the model\n",
    "A small snippet to initialize a model for pretraining"
   ]
  },
  {
   "cell_type": "code",
   "execution_count": 10,
   "metadata": {},
   "outputs": [],
   "source": [
    "import sys\n",
    "sys.path.insert(0, '..')\n",
    "from src.transformer.transformer import Transformer\n",
    "import argparse"
   ]
  },
  {
   "cell_type": "markdown",
   "metadata": {},
   "source": [
    "## Hyperparameters"
   ]
  },
  {
   "cell_type": "code",
   "execution_count": 47,
   "metadata": {},
   "outputs": [],
   "source": [
    "class Args(argparse.Namespace):\n",
    "  hidden_size = 96 #size of the hidden layers and embeddings\n",
    "  hidden_ff = 512 #size of the position-wise feed-forward layer\n",
    "  n_encoders = 4 # number of encoder blocks\n",
    "  n_heads = 8 # number of attention heads in the multiheadattention module\n",
    "  n_local = 2 # number of local attention heads \n",
    "  local_window_size = 4 # size of the window for local attention\n",
    "  max_length = 100 # maximum length of the input sequence\n",
    "  vocab_size = 100 # size of the vocabulary\n",
    "  num_classes = 3 # number of classes for the SOP class (we have 3: original, reversed, shuffled)\n",
    "  lr = 0.001\n",
    "  batch_size = 4\n",
    "  num_epochs = 30\n",
    "  device = 'cuda'\n",
    "  attention_type = \"performer\"\n",
    "  norm_type = \"rezero\"\n",
    "  num_random_features = 32 # number of random features for the Attention module (Performer uses this)\n",
    "  parametrize_emb = True # whether to center the token embeddin matrix\n",
    "  \n",
    "  emb_dropout = 0.1 #dropout for the embedding block\n",
    "  fw_dropout = 0.1 #dropout for the position-wise feed-forward layer\n",
    "  att_dropout = 0.1 # dropout for the multiheadattention module\n",
    "  hidden_act = \"swish\" # activation function for the hidden layers (attention layers use ReLU)\n",
    "  \n",
    "\n",
    "hparams=Args()"
   ]
  },
  {
   "cell_type": "markdown",
   "metadata": {},
   "source": [
    "## Initialization of the model"
   ]
  },
  {
   "cell_type": "code",
   "execution_count": 48,
   "metadata": {},
   "outputs": [],
   "source": [
    "l2v = Transformer(hparams=hparams)"
   ]
  },
  {
   "cell_type": "code",
   "execution_count": 44,
   "metadata": {},
   "outputs": [
    {
     "data": {
      "text/plain": [
       "Transformer(\n",
       "  (embedding): Embeddings(\n",
       "    (token): ParametrizedEmbedding(\n",
       "      100, 96, padding_idx=0\n",
       "      (parametrizations): ModuleDict(\n",
       "        (weight): ParametrizationList(\n",
       "          (0): Center()\n",
       "        )\n",
       "      )\n",
       "    )\n",
       "    (segment): Embedding(4, 96, padding_idx=0)\n",
       "    (age): PositionalEmbedding()\n",
       "    (abspos): PositionalEmbedding()\n",
       "    (res_age): ReZero()\n",
       "    (res_abs): ReZero()\n",
       "    (res_seg): ReZero()\n",
       "    (dropout): Dropout(p=0.1, inplace=False)\n",
       "  )\n",
       "  (encoders): ModuleList(\n",
       "    (0-3): 4 x EncoderLayer(\n",
       "      (attention): MultiHeadAttention(\n",
       "        (attention): CustomSelfAttention(\n",
       "          (fast_attention): FastAttention(\n",
       "            (kernel_fn): ReLU()\n",
       "          )\n",
       "          (local_attn): LocalAttention(\n",
       "            (dropout): Dropout(p=0.1, inplace=False)\n",
       "            (rel_pos): None\n",
       "          )\n",
       "          (to_q): Linear(in_features=96, out_features=96, bias=False)\n",
       "          (to_k): Linear(in_features=96, out_features=96, bias=False)\n",
       "          (to_v): Linear(in_features=96, out_features=96, bias=False)\n",
       "          (to_out): Linear(in_features=96, out_features=96, bias=True)\n",
       "          (dropout): Dropout(p=0.1, inplace=False)\n",
       "        )\n",
       "      )\n",
       "      (attention_sublayer): SublayerConnection(\n",
       "        (norm): ReZero()\n",
       "      )\n",
       "      (position_wise): PositionWiseFeedForward(\n",
       "        (hidden2ff): Linear(in_features=96, out_features=512, bias=True)\n",
       "        (dropout): Dropout(p=0.1, inplace=False)\n",
       "        (ff2hidden): Linear(in_features=512, out_features=96, bias=True)\n",
       "      )\n",
       "      (position_sublayer): SublayerConnection(\n",
       "        (norm): ReZero()\n",
       "      )\n",
       "    )\n",
       "  )\n",
       ")"
      ]
     },
     "execution_count": 44,
     "metadata": {},
     "output_type": "execute_result"
    }
   ],
   "source": [
    "l2v"
   ]
  },
  {
   "cell_type": "code",
   "execution_count": null,
   "metadata": {},
   "outputs": [],
   "source": []
  }
 ],
 "metadata": {
  "kernelspec": {
   "display_name": "torch",
   "language": "python",
   "name": "python3"
  },
  "language_info": {
   "codemirror_mode": {
    "name": "ipython",
    "version": 3
   },
   "file_extension": ".py",
   "mimetype": "text/x-python",
   "name": "python",
   "nbconvert_exporter": "python",
   "pygments_lexer": "ipython3",
   "version": "3.11.7"
  }
 },
 "nbformat": 4,
 "nbformat_minor": 2
}
